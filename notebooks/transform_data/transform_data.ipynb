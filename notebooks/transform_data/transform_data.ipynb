{
 "cells": [
  {
   "cell_type": "markdown",
   "metadata": {},
   "source": [
    "# Data Transform\n",
    "\n",
    "The following notebook is used to take the original datasets and transform them using the `TextProcessor` class."
   ]
  },
  {
   "cell_type": "code",
   "execution_count": 1,
   "metadata": {},
   "outputs": [],
   "source": [
    "import sys\n",
    "from pathlib import Path\n",
    "import pandas as pd"
   ]
  },
  {
   "cell_type": "code",
   "execution_count": 2,
   "metadata": {},
   "outputs": [
    {
     "name": "stderr",
     "output_type": "stream",
     "text": [
      "[nltk_data] Downloading package stopwords to\n",
      "[nltk_data]     /Users/jakegodsall/nltk_data...\n",
      "[nltk_data]   Package stopwords is already up-to-date!\n",
      "[nltk_data] Downloading package wordnet to\n",
      "[nltk_data]     /Users/jakegodsall/nltk_data...\n",
      "[nltk_data]   Package wordnet is already up-to-date!\n"
     ]
    }
   ],
   "source": [
    "cwd = Path.cwd()\n",
    "root_dir = cwd.parent.parent\n",
    "data_dir = root_dir / \"data\"\n",
    "\n",
    "if str(root_dir) not in sys.path:\n",
    "    sys.path.insert(0, str(root_dir))\n",
    "else:\n",
    "    print(\"Source directory already found in path.\")\n",
    "\n",
    "from src.utils.text_process import TextProcessor"
   ]
  },
  {
   "cell_type": "code",
   "execution_count": 3,
   "metadata": {},
   "outputs": [],
   "source": [
    "processor = TextProcessor()"
   ]
  },
  {
   "cell_type": "code",
   "execution_count": 4,
   "metadata": {},
   "outputs": [],
   "source": [
    "\n",
    "rep_df = pd.read_csv(data_dir / \"reddit_opinion_republican.csv\")\n",
    "rep_df.loc[:, \"self_text_transformed\"] = rep_df.loc[:, \"self_text\"].apply(processor.process)\n",
    "rep_df.loc[:, \"post_title_trasnformed\"] = rep_df.loc[:, \"post_title\"].apply(processor.process)\n",
    "rep_df.to_csv(data_dir / \"reddit_opinion_republican_transformed.csv\")"
   ]
  },
  {
   "cell_type": "code",
   "execution_count": null,
   "metadata": {},
   "outputs": [],
   "source": [
    "dem_df = pd.read_csv(data_dir / \"reddit_opinion_democrats.csv\")\n",
    "dem_df.loc[:, \"self_text_transformed\"] = dem_df.loc[:, \"self_text\"].apply(processor.process)\n",
    "dem_df.loc[:, \"post_title_trasnformed\"] = dem_df.loc[:, \"post_title\"].apply(processor.process)\n",
    "dem_df.to_csv(data_dir / \"reddit_opinion_democrats_transformed.csv\")"
   ]
  }
 ],
 "metadata": {
  "kernelspec": {
   "display_name": "venv",
   "language": "python",
   "name": "python3"
  },
  "language_info": {
   "codemirror_mode": {
    "name": "ipython",
    "version": 3
   },
   "file_extension": ".py",
   "mimetype": "text/x-python",
   "name": "python",
   "nbconvert_exporter": "python",
   "pygments_lexer": "ipython3",
   "version": "3.11.6"
  }
 },
 "nbformat": 4,
 "nbformat_minor": 2
}
