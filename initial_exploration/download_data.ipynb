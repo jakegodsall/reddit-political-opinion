{
 "cells": [
  {
   "cell_type": "markdown",
   "metadata": {},
   "source": [
    "# Download datasets\n",
    "\n",
    "The following notebook is used to download datasets from https://www.kaggle.com."
   ]
  },
  {
   "cell_type": "markdown",
   "metadata": {},
   "source": [
    "Add the `src` directory to the path for the Python interpreter:"
   ]
  },
  {
   "cell_type": "code",
   "execution_count": 4,
   "metadata": {},
   "outputs": [
    {
     "name": "stdout",
     "output_type": "stream",
     "text": [
      "Source directory already found in path.\n"
     ]
    }
   ],
   "source": [
    "import sys\n",
    "from pathlib import Path\n",
    "\n",
    "root_dir = Path().cwd().parent\n",
    "src_dir = root_dir / \"src\"\n",
    "\n",
    "if str(src_dir) not in sys.path:\n",
    "    sys.path.insert(0, str(src_dir))\n",
    "else:\n",
    "    print(\"Source directory already found in path.\")"
   ]
  },
  {
   "cell_type": "markdown",
   "metadata": {},
   "source": [
    "Download the specified dataasets to `/data`:"
   ]
  },
  {
   "cell_type": "code",
   "execution_count": 5,
   "metadata": {},
   "outputs": [
    {
     "name": "stdout",
     "output_type": "stream",
     "text": [
      "Dataset 'asaniczka/public-opinion-on-republicans-daily-updated' downloaded to '//Users/jakegodsall/Documents/dev/data-science/reddit-political-opinion/data'.\n",
      "Dataset 'asaniczka/public-opinion-on-democrats-updated-daily' downloaded to '//Users/jakegodsall/Documents/dev/data-science/reddit-political-opinion/data'.\n"
     ]
    }
   ],
   "source": [
    "from utils.download_data import download_data\n",
    "\n",
    "datasets = [\n",
    "    \"asaniczka/public-opinion-on-republicans-daily-updated\",\n",
    "    \"asaniczka/public-opinion-on-democrats-updated-daily\",\n",
    "     ]\n",
    "\n",
    "\n",
    "\n",
    "data_dir = root_dir / \"data\"\n",
    "\n",
    "for dataset in datasets:\n",
    "    download_data(dataset, data_dir)"
   ]
  },
  {
   "cell_type": "code",
   "execution_count": null,
   "metadata": {},
   "outputs": [],
   "source": []
  }
 ],
 "metadata": {
  "kernelspec": {
   "display_name": "venv",
   "language": "python",
   "name": "python3"
  },
  "language_info": {
   "codemirror_mode": {
    "name": "ipython",
    "version": 3
   },
   "file_extension": ".py",
   "mimetype": "text/x-python",
   "name": "python",
   "nbconvert_exporter": "python",
   "pygments_lexer": "ipython3",
   "version": "3.11.6"
  }
 },
 "nbformat": 4,
 "nbformat_minor": 2
}
