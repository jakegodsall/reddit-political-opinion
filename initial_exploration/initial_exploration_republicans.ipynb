{
 "cells": [
  {
   "cell_type": "markdown",
   "metadata": {},
   "source": [
    "# Initial Dataset Exploration (Republican Opinion)"
   ]
  },
  {
   "cell_type": "markdown",
   "metadata": {},
   "source": [
    "Import necessary modules:"
   ]
  },
  {
   "cell_type": "code",
   "execution_count": 4,
   "id": "d92e1136-4c99-4a80-92af-84b70d9fb1ce",
   "metadata": {},
   "outputs": [],
   "source": [
    "# Python STL\n",
    "from pathlib import Path\n",
    "\n",
    "# Data Analysis\n",
    "import numpy as np\n",
    "import pandas as pd\n",
    "\n",
    "# Data Visualisation\n",
    "import plotly.express as px"
   ]
  },
  {
   "cell_type": "markdown",
   "metadata": {},
   "source": [
    "Create necessary `Path` objects:"
   ]
  },
  {
   "cell_type": "code",
   "execution_count": 5,
   "metadata": {},
   "outputs": [],
   "source": [
    "root_dir = Path().cwd().parent\n",
    "data_dir = root_dir / \"data\""
   ]
  },
  {
   "cell_type": "markdown",
   "metadata": {},
   "source": [
    "Discover datasets in `data/` directory:"
   ]
  },
  {
   "cell_type": "code",
   "execution_count": 6,
   "id": "e32a1aa9-7b12-4c3f-9728-d02c530ce6c3",
   "metadata": {},
   "outputs": [
    {
     "name": "stdout",
     "output_type": "stream",
     "text": [
      "CSV Files: \n",
      "/Users/jakegodsall/Documents/dev/data-science/reddit-political-opinion/data/reddit_opinion_democrats.csv\n",
      "/Users/jakegodsall/Documents/dev/data-science/reddit-political-opinion/data/reddit_opinion_republican.csv\n"
     ]
    }
   ],
   "source": [
    "print(\"CSV Files: \")\n",
    "for csv in data_dir.glob(\"*.csv\"):\n",
    "    print(csv)"
   ]
  },
  {
   "cell_type": "markdown",
   "metadata": {},
   "source": [
    "## Republican Opinion Dataset Initial Exploration"
   ]
  },
  {
   "cell_type": "markdown",
   "metadata": {},
   "source": [
    "Load the dataset into a `pandas.DataFrame`:"
   ]
  },
  {
   "cell_type": "code",
   "execution_count": 7,
   "id": "e18c61aa-9908-4d32-9584-18cb83195449",
   "metadata": {},
   "outputs": [
    {
     "data": {
      "text/html": [
       "<div>\n",
       "<style scoped>\n",
       "    .dataframe tbody tr th:only-of-type {\n",
       "        vertical-align: middle;\n",
       "    }\n",
       "\n",
       "    .dataframe tbody tr th {\n",
       "        vertical-align: top;\n",
       "    }\n",
       "\n",
       "    .dataframe thead th {\n",
       "        text-align: right;\n",
       "    }\n",
       "</style>\n",
       "<table border=\"1\" class=\"dataframe\">\n",
       "  <thead>\n",
       "    <tr style=\"text-align: right;\">\n",
       "      <th></th>\n",
       "      <th>comment_id</th>\n",
       "      <th>score</th>\n",
       "      <th>self_text</th>\n",
       "      <th>subreddit</th>\n",
       "      <th>created_time</th>\n",
       "      <th>post_id</th>\n",
       "      <th>author_name</th>\n",
       "      <th>controversiality</th>\n",
       "      <th>ups</th>\n",
       "      <th>downs</th>\n",
       "      <th>...</th>\n",
       "      <th>user_link_karma</th>\n",
       "      <th>user_comment_karma</th>\n",
       "      <th>user_total_karma</th>\n",
       "      <th>post_score</th>\n",
       "      <th>post_self_text</th>\n",
       "      <th>post_title</th>\n",
       "      <th>post_upvote_ratio</th>\n",
       "      <th>post_thumbs_ups</th>\n",
       "      <th>post_total_awards_received</th>\n",
       "      <th>post_created_time</th>\n",
       "    </tr>\n",
       "  </thead>\n",
       "  <tbody>\n",
       "    <tr>\n",
       "      <th>0</th>\n",
       "      <td>kbc02gf</td>\n",
       "      <td>1</td>\n",
       "      <td>85% acceptance rate and 65% graduation rate? C...</td>\n",
       "      <td>politics</td>\n",
       "      <td>2023-11-29 23:40:57</td>\n",
       "      <td>187242w</td>\n",
       "      <td>ShinySpines</td>\n",
       "      <td>0</td>\n",
       "      <td>1</td>\n",
       "      <td>0</td>\n",
       "      <td>...</td>\n",
       "      <td>239.0</td>\n",
       "      <td>53391.0</td>\n",
       "      <td>54801.0</td>\n",
       "      <td>442</td>\n",
       "      <td>NaN</td>\n",
       "      <td>Trump Caught Moving Money Around to Pay Massiv...</td>\n",
       "      <td>0.98</td>\n",
       "      <td>442</td>\n",
       "      <td>0</td>\n",
       "      <td>2023-11-29 22:33:12</td>\n",
       "    </tr>\n",
       "    <tr>\n",
       "      <th>1</th>\n",
       "      <td>kbbzzvm</td>\n",
       "      <td>1</td>\n",
       "      <td>The video is crazier.</td>\n",
       "      <td>VoteDEM</td>\n",
       "      <td>2023-11-29 23:40:28</td>\n",
       "      <td>186mtny</td>\n",
       "      <td>Eightysixedit</td>\n",
       "      <td>0</td>\n",
       "      <td>1</td>\n",
       "      <td>0</td>\n",
       "      <td>...</td>\n",
       "      <td>2.0</td>\n",
       "      <td>18983.0</td>\n",
       "      <td>18985.0</td>\n",
       "      <td>19</td>\n",
       "      <td>After a year of hard work, we can enjoy the re...</td>\n",
       "      <td>Daily Discussion Thread: November 29, 2023</td>\n",
       "      <td>0.90</td>\n",
       "      <td>19</td>\n",
       "      <td>0</td>\n",
       "      <td>2023-11-29 11:00:07</td>\n",
       "    </tr>\n",
       "    <tr>\n",
       "      <th>2</th>\n",
       "      <td>kbbzye4</td>\n",
       "      <td>1</td>\n",
       "      <td>They will release the iron-clad proof of 'The ...</td>\n",
       "      <td>politics</td>\n",
       "      <td>2023-11-29 23:40:11</td>\n",
       "      <td>1870jp8</td>\n",
       "      <td>NovelRelationship830</td>\n",
       "      <td>0</td>\n",
       "      <td>1</td>\n",
       "      <td>0</td>\n",
       "      <td>...</td>\n",
       "      <td>1561.0</td>\n",
       "      <td>11992.0</td>\n",
       "      <td>13553.0</td>\n",
       "      <td>1003</td>\n",
       "      <td>NaN</td>\n",
       "      <td>Republicans Trip Over Their Own Assholes Tryin...</td>\n",
       "      <td>0.98</td>\n",
       "      <td>1003</td>\n",
       "      <td>0</td>\n",
       "      <td>2023-11-29 21:26:26</td>\n",
       "    </tr>\n",
       "    <tr>\n",
       "      <th>3</th>\n",
       "      <td>kbbzxhi</td>\n",
       "      <td>1</td>\n",
       "      <td>[https://www.whitehouse.gov/omb/budget/histori...</td>\n",
       "      <td>changemyview</td>\n",
       "      <td>2023-11-29 23:40:00</td>\n",
       "      <td>186x25w</td>\n",
       "      <td>CalLaw2023</td>\n",
       "      <td>0</td>\n",
       "      <td>1</td>\n",
       "      <td>0</td>\n",
       "      <td>...</td>\n",
       "      <td>2.0</td>\n",
       "      <td>1274.0</td>\n",
       "      <td>1276.0</td>\n",
       "      <td>0</td>\n",
       "      <td>I ran into this article where an interest grou...</td>\n",
       "      <td>CMV:Social security contributes to federal debt</td>\n",
       "      <td>0.30</td>\n",
       "      <td>0</td>\n",
       "      <td>0</td>\n",
       "      <td>2023-11-29 18:55:07</td>\n",
       "    </tr>\n",
       "    <tr>\n",
       "      <th>4</th>\n",
       "      <td>kbbzx4z</td>\n",
       "      <td>1</td>\n",
       "      <td>Republicans should move away from conspiracy t...</td>\n",
       "      <td>AskReddit</td>\n",
       "      <td>2023-11-29 23:39:56</td>\n",
       "      <td>18730jr</td>\n",
       "      <td>areallycleverid</td>\n",
       "      <td>0</td>\n",
       "      <td>1</td>\n",
       "      <td>0</td>\n",
       "      <td>...</td>\n",
       "      <td>2527.0</td>\n",
       "      <td>4371.0</td>\n",
       "      <td>6898.0</td>\n",
       "      <td>0</td>\n",
       "      <td>NaN</td>\n",
       "      <td>Biden has retaken the lead on the latest natio...</td>\n",
       "      <td>0.14</td>\n",
       "      <td>0</td>\n",
       "      <td>0</td>\n",
       "      <td>2023-11-29 23:11:32</td>\n",
       "    </tr>\n",
       "  </tbody>\n",
       "</table>\n",
       "<p>5 rows × 24 columns</p>\n",
       "</div>"
      ],
      "text/plain": [
       "  comment_id  score                                          self_text  \\\n",
       "0    kbc02gf      1  85% acceptance rate and 65% graduation rate? C...   \n",
       "1    kbbzzvm      1                              The video is crazier.   \n",
       "2    kbbzye4      1  They will release the iron-clad proof of 'The ...   \n",
       "3    kbbzxhi      1  [https://www.whitehouse.gov/omb/budget/histori...   \n",
       "4    kbbzx4z      1  Republicans should move away from conspiracy t...   \n",
       "\n",
       "      subreddit         created_time  post_id           author_name  \\\n",
       "0      politics  2023-11-29 23:40:57  187242w           ShinySpines   \n",
       "1       VoteDEM  2023-11-29 23:40:28  186mtny         Eightysixedit   \n",
       "2      politics  2023-11-29 23:40:11  1870jp8  NovelRelationship830   \n",
       "3  changemyview  2023-11-29 23:40:00  186x25w            CalLaw2023   \n",
       "4     AskReddit  2023-11-29 23:39:56  18730jr       areallycleverid   \n",
       "\n",
       "   controversiality  ups  downs  ... user_link_karma user_comment_karma  \\\n",
       "0                 0    1      0  ...           239.0            53391.0   \n",
       "1                 0    1      0  ...             2.0            18983.0   \n",
       "2                 0    1      0  ...          1561.0            11992.0   \n",
       "3                 0    1      0  ...             2.0             1274.0   \n",
       "4                 0    1      0  ...          2527.0             4371.0   \n",
       "\n",
       "   user_total_karma  post_score  \\\n",
       "0           54801.0         442   \n",
       "1           18985.0          19   \n",
       "2           13553.0        1003   \n",
       "3            1276.0           0   \n",
       "4            6898.0           0   \n",
       "\n",
       "                                      post_self_text  \\\n",
       "0                                                NaN   \n",
       "1  After a year of hard work, we can enjoy the re...   \n",
       "2                                                NaN   \n",
       "3  I ran into this article where an interest grou...   \n",
       "4                                                NaN   \n",
       "\n",
       "                                          post_title  post_upvote_ratio  \\\n",
       "0  Trump Caught Moving Money Around to Pay Massiv...               0.98   \n",
       "1         Daily Discussion Thread: November 29, 2023               0.90   \n",
       "2  Republicans Trip Over Their Own Assholes Tryin...               0.98   \n",
       "3    CMV:Social security contributes to federal debt               0.30   \n",
       "4  Biden has retaken the lead on the latest natio...               0.14   \n",
       "\n",
       "   post_thumbs_ups post_total_awards_received    post_created_time  \n",
       "0              442                          0  2023-11-29 22:33:12  \n",
       "1               19                          0  2023-11-29 11:00:07  \n",
       "2             1003                          0  2023-11-29 21:26:26  \n",
       "3                0                          0  2023-11-29 18:55:07  \n",
       "4                0                          0  2023-11-29 23:11:32  \n",
       "\n",
       "[5 rows x 24 columns]"
      ]
     },
     "execution_count": 7,
     "metadata": {},
     "output_type": "execute_result"
    }
   ],
   "source": [
    "rep_df = pd.read_csv(data_dir / \"reddit_opinion_republican.csv\", delimiter=\",\")\n",
    "\n",
    "rep_df.head()"
   ]
  },
  {
   "cell_type": "markdown",
   "metadata": {},
   "source": [
    "Determine size of the dataset:"
   ]
  },
  {
   "cell_type": "code",
   "execution_count": 8,
   "metadata": {},
   "outputs": [
    {
     "name": "stdout",
     "output_type": "stream",
     "text": [
      "Number of rows:  4776912\n"
     ]
    }
   ],
   "source": [
    "print(\"Number of rows: \", rep_df.size)"
   ]
  },
  {
   "cell_type": "markdown",
   "metadata": {},
   "source": [
    "Check for empty values:"
   ]
  },
  {
   "cell_type": "code",
   "execution_count": 9,
   "metadata": {},
   "outputs": [
    {
     "data": {
      "text/plain": [
       "comment_id                         0\n",
       "score                              0\n",
       "self_text                          1\n",
       "subreddit                          0\n",
       "created_time                       0\n",
       "post_id                            0\n",
       "author_name                        0\n",
       "controversiality                   0\n",
       "ups                                0\n",
       "downs                              0\n",
       "user_is_verified                4677\n",
       "user_account_created_time       4677\n",
       "user_awardee_karma                 3\n",
       "user_awarder_karma                 3\n",
       "user_link_karma                    3\n",
       "user_comment_karma                 3\n",
       "user_total_karma                   3\n",
       "post_score                         0\n",
       "post_self_text                155275\n",
       "post_title                         0\n",
       "post_upvote_ratio                  0\n",
       "post_thumbs_ups                    0\n",
       "post_total_awards_received         0\n",
       "post_created_time                  0\n",
       "dtype: int64"
      ]
     },
     "execution_count": 9,
     "metadata": {},
     "output_type": "execute_result"
    }
   ],
   "source": [
    "rep_df.isna().sum()"
   ]
  },
  {
   "cell_type": "markdown",
   "metadata": {},
   "source": [
    "Determining values of categorical variables:"
   ]
  },
  {
   "cell_type": "code",
   "execution_count": 14,
   "metadata": {},
   "outputs": [
    {
     "data": {
      "text/plain": [
       "score\n",
       " 1       34661\n",
       " 2       23125\n",
       " 3       17721\n",
       " 5        9526\n",
       " 4        9248\n",
       "         ...  \n",
       " 719         1\n",
       " 579         1\n",
       " 1454        1\n",
       " 564         1\n",
       "-81          1\n",
       "Name: count, Length: 1370, dtype: int64"
      ]
     },
     "execution_count": 14,
     "metadata": {},
     "output_type": "execute_result"
    }
   ],
   "source": [
    "rep_df.loc[:, \"score\"].value_counts()"
   ]
  },
  {
   "cell_type": "code",
   "execution_count": 11,
   "metadata": {},
   "outputs": [
    {
     "data": {
      "text/plain": [
       "array(['politics', 'VoteDEM', 'changemyview', 'AskReddit',\n",
       "       'PoliticalHumor', 'neoliberal', 'Conservative',\n",
       "       'WhitePeopleTwitter', 'news', 'Republican_misdeeds', 'democrats',\n",
       "       'conspiracy', 'RepublicanValues', 'Republican', 'uspolitics',\n",
       "       'ShitPoliticsSays', 'Political_Revolution', 'AskThe_Donald',\n",
       "       'trump', 'WayOfTheBern', 'conservatives', 'Libertarian',\n",
       "       'progressive', 'Republican_memes', 'SandersForPresident',\n",
       "       'ConservativesOnly', 'EnoughTrumpSpam', 'republicanmemes',\n",
       "       'ChristianDemocrat', 'ConservativeDemocrat'], dtype=object)"
      ]
     },
     "execution_count": 11,
     "metadata": {},
     "output_type": "execute_result"
    }
   ],
   "source": [
    "rep_df.loc[:, \"subreddit\"].unique()"
   ]
  },
  {
   "cell_type": "code",
   "execution_count": 12,
   "metadata": {},
   "outputs": [
    {
     "data": {
      "text/plain": [
       "subreddit\n",
       "politics                78383\n",
       "VoteDEM                 25552\n",
       "WhitePeopleTwitter      16219\n",
       "PoliticalHumor          12441\n",
       "democrats               11005\n",
       "neoliberal               7813\n",
       "Conservative             5544\n",
       "ShitPoliticsSays         4969\n",
       "Libertarian              4415\n",
       "changemyview             3647\n",
       "conspiracy               3441\n",
       "Republican               2817\n",
       "trump                    2604\n",
       "uspolitics               2549\n",
       "EnoughTrumpSpam          2503\n",
       "Political_Revolution     2339\n",
       "progressive              2262\n",
       "AskThe_Donald            1903\n",
       "RepublicanValues         1517\n",
       "SandersForPresident      1477\n",
       "Republican_misdeeds      1352\n",
       "news                      972\n",
       "WayOfTheBern              937\n",
       "conservatives             828\n",
       "AskReddit                 445\n",
       "ConservativesOnly         327\n",
       "ChristianDemocrat         306\n",
       "republicanmemes           246\n",
       "Republican_memes          113\n",
       "ConservativeDemocrat      112\n",
       "Name: count, dtype: int64"
      ]
     },
     "execution_count": 12,
     "metadata": {},
     "output_type": "execute_result"
    }
   ],
   "source": [
    "rep_df.loc[:, \"subreddit\"].value_counts()"
   ]
  },
  {
   "cell_type": "code",
   "execution_count": 16,
   "metadata": {},
   "outputs": [
    {
     "data": {
      "text/plain": [
       "array([0, 1])"
      ]
     },
     "execution_count": 16,
     "metadata": {},
     "output_type": "execute_result"
    }
   ],
   "source": [
    "rep_df.loc[:, \"controversiality\"].unique()"
   ]
  },
  {
   "cell_type": "code",
   "execution_count": null,
   "metadata": {},
   "outputs": [],
   "source": []
  }
 ],
 "metadata": {
  "kernelspec": {
   "display_name": "Python 3 (ipykernel)",
   "language": "python",
   "name": "python3"
  },
  "language_info": {
   "codemirror_mode": {
    "name": "ipython",
    "version": 3
   },
   "file_extension": ".py",
   "mimetype": "text/x-python",
   "name": "python",
   "nbconvert_exporter": "python",
   "pygments_lexer": "ipython3",
   "version": "3.11.6"
  }
 },
 "nbformat": 4,
 "nbformat_minor": 5
}
